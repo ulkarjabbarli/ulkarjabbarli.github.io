{
 "cells": [
  {
   "cell_type": "code",
   "execution_count": 37,
   "metadata": {},
   "outputs": [],
   "source": [
    "import numpy as np\n",
    "from matplotlib import pyplot as plt\n",
    "\n",
    "def f(x):\n",
    "    return x**3 - 12*x**2 + 10*x + 3\n",
    "\n",
    "def df(x):\n",
    "    return 3*x**2 - 24*x + 10\n",
    "\n",
    "def d2f(x):\n",
    "    return 6*x - 24\n",
    "\n",
    "def newton_minimize(f, df, d2f, initial_guess, tol, max_iter):\n",
    "    x = initial_guess\n",
    "    points_list = []\n",
    "    points_list.append(x)\n",
    "    # print(len(points_list))\n",
    "    for _ in range(max_iter):\n",
    "        # print(_)\n",
    "        x_next = x - df(x) / d2f(x)\n",
    "        points_list.append(x_next)\n",
    "        print(points_list)\n",
    "        if abs(x_next - x) < tol:\n",
    "            print(_)\n",
    "            return x_next\n",
    "        x = x_next\n",
    "    print(points_list)\n",
    "    return points_list\n"
   ]
  },
  {
   "cell_type": "code",
   "execution_count": 39,
   "metadata": {},
   "outputs": [
    {
     "name": "stdout",
     "output_type": "stream",
     "text": [
      "[10, 8.055555555555555]\n",
      "[10, 8.055555555555555, 7.589421613394215]\n",
      "[10, 8.055555555555555, 7.589421613394215, 7.559154779982382]\n",
      "[10, 8.055555555555555, 7.589421613394215, 7.559154779982382, 7.559026086337204]\n",
      "[10, 8.055555555555555, 7.589421613394215, 7.559154779982382, 7.559026086337204, 7.559026084010436]\n",
      "4\n"
     ]
    },
    {
     "ename": "TypeError",
     "evalue": "object of type 'float' has no len()",
     "output_type": "error",
     "traceback": [
      "\u001b[0;31m---------------------------------------------------------------------------\u001b[0m",
      "\u001b[0;31mTypeError\u001b[0m                                 Traceback (most recent call last)",
      "Cell \u001b[0;32mIn[39], line 7\u001b[0m\n\u001b[1;32m      3\u001b[0m \u001b[39m# print(minimum)\u001b[39;00m\n\u001b[1;32m      4\u001b[0m \u001b[39m# print(f\"Estimated minimum: {minimum[0]}\")\u001b[39;00m\n\u001b[1;32m      5\u001b[0m \u001b[39m# print(f\"f(minimum) = {f(minimum[0])}\")\u001b[39;00m\n\u001b[1;32m      6\u001b[0m x \u001b[39m=\u001b[39m np\u001b[39m.\u001b[39mlinspace(\u001b[39m-\u001b[39m\u001b[39m10\u001b[39m, \u001b[39m10\u001b[39m, \u001b[39m100\u001b[39m)\n\u001b[0;32m----> 7\u001b[0m rang \u001b[39m=\u001b[39m \u001b[39mrange\u001b[39m(\u001b[39mlen\u001b[39;49m(minimum))\n\u001b[1;32m      8\u001b[0m plt\u001b[39m.\u001b[39mplot(x, f(x), color\u001b[39m=\u001b[39m\u001b[39m'\u001b[39m\u001b[39mblack\u001b[39m\u001b[39m'\u001b[39m)\n\u001b[1;32m      9\u001b[0m plt\u001b[39m.\u001b[39mplot(rang, minimum, color\u001b[39m=\u001b[39m\u001b[39m'\u001b[39m\u001b[39mred\u001b[39m\u001b[39m'\u001b[39m)\n",
      "\u001b[0;31mTypeError\u001b[0m: object of type 'float' has no len()"
     ]
    }
   ],
   "source": [
    "initial_guess = 10\n",
    "minimum = newton_minimize(f, df, d2f, initial_guess, 1e-6, 100)\n",
    "# print(minimum)\n",
    "# print(f\"Estimated minimum: {minimum[0]}\")\n",
    "# print(f\"f(minimum) = {f(minimum[0])}\")\n",
    "x = np.linspace(-10, 10, 100)\n",
    "rang = range(len(minimum))\n",
    "plt.plot(x, f(x), color='black')\n",
    "plt.plot(rang, minimum, color='red')\n",
    "plt.show()"
   ]
  },
  {
   "cell_type": "code",
   "execution_count": null,
   "metadata": {},
   "outputs": [],
   "source": []
  }
 ],
 "metadata": {
  "kernelspec": {
   "display_name": "deeznuts",
   "language": "python",
   "name": "python3"
  },
  "language_info": {
   "codemirror_mode": {
    "name": "ipython",
    "version": 3
   },
   "file_extension": ".py",
   "mimetype": "text/x-python",
   "name": "python",
   "nbconvert_exporter": "python",
   "pygments_lexer": "ipython3",
   "version": "3.11.0"
  },
  "orig_nbformat": 4
 },
 "nbformat": 4,
 "nbformat_minor": 2
}
